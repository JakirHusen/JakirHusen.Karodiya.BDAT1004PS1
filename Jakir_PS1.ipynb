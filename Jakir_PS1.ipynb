{
 "cells": [
  {
   "cell_type": "markdown",
   "id": "ffe61941",
   "metadata": {},
   "source": [
    "### ---------------------------------- Question 1 ----------------------------------\n",
    "\n",
    "What data type is each of the following?"
   ]
  },
  {
   "cell_type": "markdown",
   "id": "f084ddee",
   "metadata": {},
   "source": [
    "Here's the data type of each of the following in C#:\n",
    "\n",
    "5                  - integer (int).\n",
    "\n",
    "5.0                - floating-point number (double).\n",
    "\n",
    "5 > 1              - boolean (bool) (True).\n",
    "\n",
    "'5'                - string (string).\n",
    "\n",
    "5 * 2              - integer (int)  (10).\n",
    "\n",
    "'5' * 2            - error (cannot multiply a string and an integer).\n",
    "\n",
    "'5' + '2'          - string (string) (52).\n",
    "\n",
    "5 / 2              - floating-point number (double) (2.5).\n",
    "\n",
    "5 % 2              - integer (int) (1).\n",
    "\n",
    "{5, 2, 1}          - array of integers (int {1, 2, 5}).\n",
    "\n",
    "5 == 3             - boolean (bool) (false).\n",
    "\n",
    "Pi (the number)    - floating-point number (double)."
   ]
  },
  {
   "cell_type": "markdown",
   "id": "78a1c561",
   "metadata": {},
   "source": [
    "### ---------------------------------- Question 2 ----------------------------------\n",
    "\n",
    "##### Question 2.a\n",
    "How many letters are there in 'Supercalifragilisticexpialidocious'?"
   ]
  },
  {
   "cell_type": "code",
   "execution_count": 3,
   "id": "fe0e41fa",
   "metadata": {},
   "outputs": [
    {
     "name": "stdout",
     "output_type": "stream",
     "text": [
      "Length of the string is 34\r\n"
     ]
    }
   ],
   "source": [
    "//-------------------\n",
    "//Question 2A\n",
    "//-------------------\n",
    "string word = \"Supercalifragilisticexpialidocious\";\n",
    "Console.WriteLine(\"Length of the string is \" + word.Length)"
   ]
  },
  {
   "cell_type": "markdown",
   "id": "e7bf0d75",
   "metadata": {},
   "source": [
    "##### Question 2.b\n",
    "Does 'Supercalifragilisticexpialidocious' contain 'ice' as a substring?"
   ]
  },
  {
   "cell_type": "code",
   "execution_count": 6,
   "id": "609f55ea",
   "metadata": {},
   "outputs": [
    {
     "name": "stdout",
     "output_type": "stream",
     "text": [
      "Supercalifragilisticexpialidocious contains 'ice' as substring?: True\r\n"
     ]
    }
   ],
   "source": [
    "//-------------------\n",
    "//Question 2B\n",
    "//-------------------\n",
    "string word = \"Supercalifragilisticexpialidocious\";\n",
    "Console.WriteLine(word + \" contains 'ice' as substring?: \" + word.Contains(\"ice\"))\n"
   ]
  },
  {
   "cell_type": "markdown",
   "id": "f0799765",
   "metadata": {},
   "source": [
    "##### Question 2.c\n",
    "Which of the following words is the longest:\n",
    "Supercalifragilisticexpialidocious, Honorificabilitudinitatibus, or Bababadalgharaghtakamminarronnkonn?"
   ]
  },
  {
   "cell_type": "code",
   "execution_count": 7,
   "id": "a0f59964",
   "metadata": {},
   "outputs": [
    {
     "name": "stdout",
     "output_type": "stream",
     "text": [
      "The longest word is: Supercalifragilisticexpialidocious\r\n"
     ]
    }
   ],
   "source": [
    "//-------------------\n",
    "//Question 2C\n",
    "//-------------------\n",
    "string word1 = \"Supercalifragilisticexpialidocious\";\n",
    "string word2 = \"Honorificabilitudinitatibus\";\n",
    "string word3 = \"Bababadalgharaghtakamminarronnkonn\";\n",
    "\n",
    "string longestWord = word1;\n",
    "\n",
    "if (word2.Length > longestWord.Length)\n",
    "{\n",
    "    longestWord = word2;\n",
    "}\n",
    "if (word3.Length > longestWord.Length)\n",
    "{\n",
    "    longestWord = word3;\n",
    "}\n",
    "\n",
    "Console.WriteLine(\"The longest word is: \" + longestWord);"
   ]
  },
  {
   "cell_type": "markdown",
   "id": "259bb53f",
   "metadata": {},
   "source": [
    "##### Question 2.d\n",
    "Which composer comes first in the dictionary: 'Berlioz', 'Borodin', 'Brian','Bartok', 'Bellini', 'Buxtehude', 'Bernstein'. Which one comes last?"
   ]
  },
  {
   "cell_type": "code",
   "execution_count": 8,
   "id": "0e32182c",
   "metadata": {},
   "outputs": [
    {
     "name": "stdout",
     "output_type": "stream",
     "text": [
      "The first composer in the dictionary is: Bartok\n",
      "The last composer in the dictionary is: Buxtehude\n"
     ]
    }
   ],
   "source": [
    "//-------------------\n",
    "//Question 2D\n",
    "//-------------------\n",
    "string[] composers = new string[] { \"Berlioz\", \"Borodin\", \"Brian\", \"Bartok\", \"Bellini\", \"Buxtehude\", \"Bernstein\" };\n",
    "Array.Sort(composers);\n",
    "Console.WriteLine(\"The first composer in the dictionary is: \" + composers[0]);\n",
    "Console.WriteLine(\"The last composer in the dictionary is: \" + composers[composers.Length - 1])"
   ]
  },
  {
   "cell_type": "markdown",
   "id": "58436953",
   "metadata": {},
   "source": [
    "### ---------------------------------- Question 3 ----------------------------------\n",
    "\n",
    "Implement function triangleArea(a,b,c) that takes as input the lengths of the 3\n",
    "sides of a triangle and returns the area of the triangle. By Heron's formula, the area\n",
    "of a triangle with side lengths a, b, and c is\n",
    "s(s - a)(s -b)(s -c), where\n",
    "s = (a +b + c) /2."
   ]
  },
  {
   "cell_type": "code",
   "execution_count": 10,
   "id": "cf4663be",
   "metadata": {},
   "outputs": [
    {
     "name": "stdout",
     "output_type": "stream",
     "text": [
      "6\r\n"
     ]
    }
   ],
   "source": [
    "static double TriangleArea(double a, double b, double c)\n",
    "{\n",
    "    double s = (a + b + c) / 2;\n",
    "    double area = Math.Sqrt(s * (s - a) * (s - b) * (s - c));\n",
    "    return area;\n",
    "}\n",
    "\n",
    "double area = TriangleArea(5, 4, 3);\n",
    "Console.WriteLine(area);"
   ]
  },
  {
   "cell_type": "markdown",
   "id": "38260679",
   "metadata": {},
   "source": [
    "### ---------------------------------- Question 4 ----------------------------------\n",
    "\n",
    "Write a program in python to separate odd and even integers in separate arrays."
   ]
  },
  {
   "cell_type": "code",
   "execution_count": 20,
   "id": "d981ac2b",
   "metadata": {},
   "outputs": [
    {
     "name": "stdout",
     "output_type": "stream",
     "text": [
      "Enter the number of elements to be stored in the array: 5\n",
      "Input 5 elements in the array: \n",
      "Element - 1: 13\n",
      "Element - 2: 15\n",
      "Element - 3: 16\n",
      "Element - 4: 18\n",
      "Element - 5: 11\n",
      "\n",
      "Odd Elements are\n",
      "13 15 11 \n",
      "Even Elements are\n",
      "16 18 "
     ]
    }
   ],
   "source": [
    "Console.WriteLine(\"Input the number of elements to be stored in the array :\");\n",
    "int numberOfElements = int.Parse(Console.ReadLine());\n",
    "\n",
    "int[] elements = new int[numberOfElements];\n",
    "\n",
    "Console.WriteLine(\"Input \" + numberOfElements + \" elements in the array :\");\n",
    "for (int i = 0; i < numberOfElements; i++)\n",
    "{\n",
    "    Console.WriteLine(\"Element - \" + i + \" :\");\n",
    "    elements[i] = int.Parse(Console.ReadLine());\n",
    "}\n",
    "\n",
    "Console.WriteLine(\"The Odd elements are :\");\n",
    "foreach (int element in elements)\n",
    "{\n",
    "    if (element % 2 != 0)\n",
    "    {\n",
    "        Console.Write(element + \" \");\n",
    "    }\n",
    "}\n",
    "\n",
    "Console.WriteLine();\n",
    "\n",
    "Console.WriteLine(\"The Even elements are :\");\n",
    "foreach (int element in elements)\n",
    "{\n",
    "    if (element % 2 == 0)\n",
    "    {\n",
    "        Console.Write(element + \" \");\n",
    "    }\n",
    "}"
   ]
  },
  {
   "cell_type": "markdown",
   "id": "864ce270",
   "metadata": {},
   "source": [
    "### ---------------------------------- Question 5 ----------------------------------\n",
    "\n",
    "##### Question 5.a\n",
    "Write a function inside(x,y,x1,y1,x2,y2) that returns True or False depending on whether the point (x,y) lies in the rectangle with lower left corner (x1,y1) and upper right corner (x2,y2)."
   ]
  },
  {
   "cell_type": "code",
   "execution_count": 6,
   "id": "57482595",
   "metadata": {},
   "outputs": [
    {
     "name": "stdout",
     "output_type": "stream",
     "text": [
      "True\n",
      "False\n"
     ]
    }
   ],
   "source": [
    "//---------------\n",
    "//Question 5 a\n",
    "//---------------\n",
    "static bool Inside(double x, double y, double x1, double y1, double x2, double y2)\n",
    "{\n",
    "    if (x >= x1 && x <= x2)\n",
    "    {\n",
    "        if (y >= y1 && y <= y2)\n",
    "        {\n",
    "            return true;\n",
    "        }\n",
    "        else\n",
    "        {\n",
    "            return false;\n",
    "        }\n",
    "    }\n",
    "    else\n",
    "    {\n",
    "        return false;\n",
    "    }\n",
    "}\n",
    "\n",
    "bool result1 = Inside(1, 1, 0, 0, 2, 3);\n",
    "bool result2 = Inside(-1, -1, 0, 0, 2, 3);\n",
    "\n",
    "Console.WriteLine(result1);\n",
    "Console.WriteLine(result2);\n"
   ]
  },
  {
   "cell_type": "markdown",
   "id": "5665825e",
   "metadata": {},
   "source": [
    "##### Question 5.b\n",
    "Use function inside() from part a. to write an expression that tests whether the point (1,1) lies in both of the following rectangles: one with lower left corner (0.3, 0.5) and upper right corner (1.1, 0.7) and the other with lower left corner (0.5, 0.2) and upper right corner (1.1, 2)."
   ]
  },
  {
   "cell_type": "code",
   "execution_count": 7,
   "id": "3876e2b0",
   "metadata": {},
   "outputs": [
    {
     "name": "stdout",
     "output_type": "stream",
     "text": [
      "Expression's result is:\n",
      "False\n"
     ]
    }
   ],
   "source": [
    "//---------------\n",
    "//Question 5b\n",
    "//---------------\n",
    "Console.WriteLine(\"Expression's result is:\");\n",
    "Console.WriteLine(Inside(1, 1, 0.3, 0.5, 1.1, 0.7) && Inside(1, 1, 0.5, 0.2, 1.1, 2));"
   ]
  },
  {
   "cell_type": "markdown",
   "id": "4e29d7b6",
   "metadata": {},
   "source": [
    "### ---------------------------------- Question 6 ----------------------------------\n",
    "\n",
    "You can turn a word into pig-Latin using the following two rules (simplified):\n",
    "1. If the word starts with a consonant, move that letter to the end and append 'ay'. For example, 'happy' becomes 'appyhay' and 'pencil' becomes 'encilpay'.\n",
    "2. If the word starts with a vowel, simply append 'way' to the end of the word. For example, 'enter' becomes 'enterway' and 'other' becomes 'otherway' . \n",
    "\n",
    "For our purposes, there are 5 vowels: a, e, i, o, u (so we count y as a consonant).\n",
    "Write a function pig() that takes a word (i.e., a string) as input and returns its pig-Latin form. Your function should still work if the input word contains upper case characters. Your output should always be lower case however."
   ]
  },
  {
   "cell_type": "code",
   "execution_count": 1,
   "id": "3ecc4d93",
   "metadata": {},
   "outputs": [
    {
     "name": "stdout",
     "output_type": "stream",
     "text": [
      "Enter the word you wish to convert: Happy\n",
      "Pig-Latin conversion of \"Happy\" will be \"appyhay\"\n"
     ]
    }
   ],
   "source": [
    "def pig(word):\n",
    "    vowels = ['a','e','i','o','u']\n",
    "    newword = word.lower()\n",
    "    if(newword[0] in vowels):\n",
    "        newword += \"way\"\n",
    "    else:\n",
    "        newword = newword[1:]+newword[0]+\"ay\"\n",
    "    print(\"Pig-Latin conversion of \\\"\"+word+\"\\\" will be \\\"\"+newword+\"\\\"\")\n",
    "    \n",
    "word = input(\"Enter the word you wish to convert: \")\n",
    "pig(word)"
   ]
  },
  {
   "cell_type": "markdown",
   "id": "4b870245",
   "metadata": {},
   "source": [
    "### ---------------------------------- Question 7 ----------------------------------\n",
    "\n",
    "File bloodtype1.txt records blood-types of patients (A, B, AB, O or OO) at a clinic. Write a function bldcount() that reads the file with name name and reports (i.e., prints) how many patients there are in each bloodtype."
   ]
  },
  {
   "cell_type": "code",
   "execution_count": 3,
   "id": "920fa63b",
   "metadata": {},
   "outputs": [
    {
     "name": "stdout",
     "output_type": "stream",
     "text": [
      "There are 15 patients of blood type A\n",
      "There is 1 patients of blood type B\n",
      "There are 13 patients of blood type AB\n",
      "There are 15 patients of blood type O\n",
      "There are 0 patients of blood type OO\n"
     ]
    }
   ],
   "source": [
    "def bldcount(fileName):\n",
    "    inputFile = open(fileName)\n",
    "    bloodGroups = ['A','B','AB','O','OO']\n",
    "    fileContent = inputFile.read().split()\n",
    "    for i in bloodGroups:\n",
    "        report = fileContent.count(i)\n",
    "        if(report == 1):\n",
    "            print(\"There is 1 patients of blood type %s\"%i)\n",
    "        else:\n",
    "            print(\"There are %s patients of blood type %s\"%(report,i))\n",
    "    \n",
    "bldcount('bloodtype.txt')"
   ]
  },
  {
   "cell_type": "markdown",
   "id": "9de3e231",
   "metadata": {},
   "source": [
    "### ---------------------------------- Question 8 ----------------------------------\n",
    "\n",
    "Write a function curconv() that takes as input:\n",
    "1. a currency represented using a string (e.g., 'JPY' for the Japanese Yen or 'EUR' for the Euro)\n",
    "2. an amount\n",
    "\n",
    "and then converts and returns the amount in US dollars."
   ]
  },
  {
   "cell_type": "code",
   "execution_count": 4,
   "id": "192ec02b",
   "metadata": {},
   "outputs": [
    {
     "name": "stdout",
     "output_type": "stream",
     "text": [
      "Enter the Currency you want to convert to USD: INR\n",
      "Enter the amount to be converted: 1000\n",
      "INR 1000 will be USD 17.7643\n"
     ]
    }
   ],
   "source": [
    "def curconv(currencyCode, amountToConvert):\n",
    "    currencyRate = {}\n",
    "    currencyRateFile = open(\"currencies.txt\")\n",
    "    fileContent = currencyRateFile.read().split(\"\\n\")\n",
    "    for i in fileContent:\n",
    "        currencyInfo = i.split()\n",
    "        currencyRate[currencyInfo[0]]=float(currencyInfo[1])\n",
    "    if(currencyCode in currencyRate):\n",
    "        print(\"%s %s will be USD %s\"%(currencyCode,amountToConvert,currencyRate[currencyCode]*float(amountToConvert)))\n",
    "    else:\n",
    "        print(\"Currency Rate not available/Invalid Currency\")\n",
    "        \n",
    "\n",
    "currencyCode = input(\"Enter the Currency you want to convert to USD: \")\n",
    "amountToConvert = input(\"Enter the amount to be converted: \")\n",
    "curconv(currencyCode,amountToConvert)"
   ]
  },
  {
   "cell_type": "markdown",
   "id": "4306ab77",
   "metadata": {},
   "source": [
    "### ---------------------------------- Question 9 ----------------------------------\n",
    "\n",
    "Each of the following will cause an exception (an error). Identify what type of exception each will cause."
   ]
  },
  {
   "cell_type": "markdown",
   "id": "45139f84",
   "metadata": {},
   "source": [
    "##### Q. Trying to add incompatible variables, as in adding 6 + ‘a’\n",
    "ANSWER = TypeError: unsupported operand type(s) for +: 'int' and 'str'"
   ]
  },
  {
   "cell_type": "markdown",
   "id": "7bb1ba8e",
   "metadata": {},
   "source": [
    "##### Q. Referring to the 12th item of a list that has only 10 items\n",
    "ANSWER = IndexError: list index out of range"
   ]
  },
  {
   "cell_type": "markdown",
   "id": "d23af9fe",
   "metadata": {},
   "source": [
    "##### Q. Using a value that is out of range for a function’s input, such as calling math.sqrt( 1.0)\n",
    "ANSWER = ValueError: math domain error\n"
   ]
  },
  {
   "cell_type": "markdown",
   "id": "2cc793c4",
   "metadata": {},
   "source": [
    "##### Q. Using an undeclared variable,  such as print(x) when x has not been defined\n",
    "ANSWER = NameError: name 'x' is not defined\n"
   ]
  },
  {
   "cell_type": "markdown",
   "id": "02aceb2f",
   "metadata": {},
   "source": [
    "##### Q.Trying to open a file that does not exist, such as mistyping the file name or looking in the wrong directory.\n",
    "ANSWER = FileNotFoundError: [Errno 2] No such file or directory: 'currencs.txt'"
   ]
  },
  {
   "cell_type": "markdown",
   "id": "1c91da0d",
   "metadata": {},
   "source": [
    "### ---------------------------------- Question 10 ----------------------------------\n",
    "\n",
    "Encryption is the process of hiding the meaning of a text by substituting letters in the message with other letters, according to some system. If the process is successful, no one but the intended recipient can understand the encrypted message. Cryptanalysis refers to attempts to undo the encryption, even if some details of the encryption are unknown (for example, if an encrypted message has been intercepted). The first step of cryptanalysis is often to build up a table of letter frequencies in the encrypted text. Assume that the string letters is already defined as 'abcdefghijklmnopqrstuvwxyz'. Write a function called frequencies() that takes a string as its only parameter, and returns a list of integers, showing the number of times each character appears in the text. Your function may ignore any characters that are not in letters."
   ]
  },
  {
   "cell_type": "code",
   "execution_count": 6,
   "id": "740f392a",
   "metadata": {},
   "outputs": [
    {
     "name": "stdout",
     "output_type": "stream",
     "text": [
      "String given to encrypt: 'The quick red fox got bored and went home.'\n",
      "Encrypted Output: [1, 1, 1, 3, 5, 1, 1, 2, 1, 0, 1, 0, 1, 2, 4, 0, 1, 2, 0, 2, 1, 0, 1, 1, 0, 0]\n",
      "Enter the word to be encrypted: This is the problem set\n",
      "Encrypted Output: [0, 1, 0, 0, 3, 0, 0, 2, 2, 0, 0, 1, 1, 0, 1, 1, 0, 1, 3, 2, 0, 0, 0, 0, 0, 0]\n"
     ]
    }
   ],
   "source": [
    "def frequencies(wordToEncrypt):\n",
    "    letters = 'abcdefghijklmnopqrstuvwxyz'\n",
    "    encryptedOutput = []\n",
    "    for i in letters:\n",
    "        encryptedOutput.append(wordToEncrypt.count(i))\n",
    "    print(\"Encrypted Output:\", encryptedOutput)\n",
    "        \n",
    "print(\"String given to encrypt: 'The quick red fox got bored and went home.'\")\n",
    "frequencies('The quick red fox got bored and went home.')\n",
    "wordToEncrypt = input(\"Enter the word to be encrypted: \")\n",
    "frequencies(wordToEncrypt)\n"
   ]
  }
 ],
 "metadata": {
  "kernelspec": {
   "display_name": "Python 3 (ipykernel)",
   "language": "python",
   "name": "python3"
  },
  "language_info": {
   "codemirror_mode": {
    "name": "ipython",
    "version": 3
   },
   "file_extension": ".py",
   "mimetype": "text/x-python",
   "name": "python",
   "nbconvert_exporter": "python",
   "pygments_lexer": "ipython3",
   "version": "3.9.13"
  }
 },
 "nbformat": 4,
 "nbformat_minor": 5
}
